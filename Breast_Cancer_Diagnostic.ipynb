{
  "nbformat": 4,
  "nbformat_minor": 0,
  "metadata": {
    "colab": {
      "provenance": [],
      "authorship_tag": "ABX9TyMJfI+JRbInroTW3aC0CLcU",
      "include_colab_link": true
    },
    "kernelspec": {
      "name": "python3",
      "display_name": "Python 3"
    },
    "language_info": {
      "name": "python"
    }
  },
  "cells": [
    {
      "cell_type": "markdown",
      "metadata": {
        "id": "view-in-github",
        "colab_type": "text"
      },
      "source": [
        "<a href=\"https://colab.research.google.com/github/Ad7amstein/Logistic_Regression-Breast_Cancer_Diagnostic/blob/main/Breast_Cancer_Diagnostic.ipynb\" target=\"_parent\"><img src=\"https://colab.research.google.com/assets/colab-badge.svg\" alt=\"Open In Colab\"/></a>"
      ]
    },
    {
      "cell_type": "markdown",
      "source": [
        "# Logistic Regression Project: Breast Cancer Diagnostic\n",
        "\n",
        "Table of contents:\n",
        "- [Goals](#goals)\n",
        "- [Tools](#tools)\n"
      ],
      "metadata": {
        "id": "mnKZT8oqggjU"
      }
    },
    {
      "cell_type": "markdown",
      "source": [
        "## <a name=\"goals\">Goals<a>"
      ],
      "metadata": {
        "id": "v4W465Jng7TT"
      }
    },
    {
      "cell_type": "markdown",
      "source": [
        "## <a name=\"tools\">Tools<a>"
      ],
      "metadata": {
        "id": "1G47jNZCg94E"
      }
    },
    {
      "cell_type": "code",
      "execution_count": null,
      "metadata": {
        "id": "CC3W3GDneFXY"
      },
      "outputs": [],
      "source": []
    }
  ]
}